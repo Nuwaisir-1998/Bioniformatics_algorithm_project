{
 "cells": [
  {
   "cell_type": "code",
   "execution_count": 6,
   "metadata": {},
   "outputs": [],
   "source": [
    "import numpy as np\n",
    "import pandas as pd\n",
    "import math"
   ]
  },
  {
   "cell_type": "code",
   "execution_count": 10,
   "metadata": {},
   "outputs": [],
   "source": [
    "def points_within_radius(points, center, radius):\n",
    "    \"\"\"\n",
    "    Returns the indices of the points in the `points` array that are\n",
    "    within a given `radius` of the `center` point.\n",
    "\n",
    "    Args:\n",
    "        points (numpy.ndarray): Array of shape (N, 2) containing the coordinates of N points\n",
    "        center (tuple): Tuple containing the (x, y) coordinates of the center point\n",
    "        radius (float): Radius of the circle centered at `center`\n",
    "\n",
    "    Returns:\n",
    "        numpy.ndarray: Array containing the indices of the points within the given radius\n",
    "    \"\"\"\n",
    "    # Calculate the distances between the points and the center\n",
    "    distances = np.linalg.norm(points - center, axis=1)\n",
    "\n",
    "    # Get the indices of the points within the radius\n",
    "    indices = np.where(distances <= radius)[0]\n",
    "\n",
    "    return indices\n"
   ]
  },
  {
   "cell_type": "code",
   "execution_count": 28,
   "metadata": {},
   "outputs": [],
   "source": [
    "def percentage_of_occurrence(arr, x):\n",
    "    count = len(arr[arr == x])\n",
    "    percentage = (count / arr.size)\n",
    "    return percentage"
   ]
  },
  {
   "cell_type": "code",
   "execution_count": 30,
   "metadata": {},
   "outputs": [
    {
     "data": {
      "text/plain": [
       "2.333333333333333"
      ]
     },
     "execution_count": 30,
     "metadata": {},
     "output_type": "execute_result"
    }
   ],
   "source": [
    "points = np.array([\n",
    "    [2, 1],\n",
    "    [2, 4],\n",
    "    [1, 7],\n",
    "    [5, 4],\n",
    "])\n",
    "\n",
    "labels = np.array([2, 3, 2, 2])\n",
    "\n",
    "\n",
    "# print(points_within_radius(points, points[3], 3))\n",
    "\n",
    "rad = 3 # fix this\n",
    "\n",
    "score = 0\n",
    "\n",
    "for i, point in enumerate(points):\n",
    "    neighborhood_idxs = points_within_radius(points, point, rad)\n",
    "    neighborhood_labels = labels[neighborhood_idxs]\n",
    "    score += percentage_of_occurrence(neighborhood_labels, labels[i])\n",
    "\n",
    "score\n"
   ]
  },
  {
   "cell_type": "code",
   "execution_count": 29,
   "metadata": {},
   "outputs": [
    {
     "name": "stdout",
     "output_type": "stream",
     "text": [
      "0 a\n",
      "1 b\n",
      "2 c\n"
     ]
    }
   ],
   "source": [
    "for i, j in enumerate(['a', 'b', 'c']):\n",
    "    print(i, j)"
   ]
  }
 ],
 "metadata": {
  "kernelspec": {
   "display_name": "paste",
   "language": "python",
   "name": "python3"
  },
  "language_info": {
   "codemirror_mode": {
    "name": "ipython",
    "version": 3
   },
   "file_extension": ".py",
   "mimetype": "text/x-python",
   "name": "python",
   "nbconvert_exporter": "python",
   "pygments_lexer": "ipython3",
   "version": "3.8.13"
  },
  "orig_nbformat": 4
 },
 "nbformat": 4,
 "nbformat_minor": 2
}
